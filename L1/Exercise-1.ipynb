{
 "cells": [
  {
   "cell_type": "markdown",
   "metadata": {},
   "source": [
    "# Exercise 1: Cooking up some Python\n",
    "\n",
    "In the “Taste of Python” lesson this week we have learned a few basic things in Python. Now you get your chance to demonstrate your skills.\n",
    "\n",
    "This exercise is inspired by [Finland being ranked the world's happiest country for the 6th year in a row](https://yle.fi/a/74-20023112). As the instructors of the Geo-Python course, we think we've found a better way to assess the individual happiness of people in Finland (particularly those taking this course!), and we're going to test our idea with you. In *five easy steps (or problems)* we'll be able to reveal your happiness based on two of life's most important happiness factors: Ice cream and sleep!\n",
    "\n",
    "## Problem 0 - Filling out the pre-course survey\n",
    "\n",
    "Before you get started with the exercise, we ask that you **please fill out the Geo-Python/AutoGIS pre-course survey at https://elomake.helsinki.fi/lomakkeet/125237/lomake.html**. Your responses will help shape how we teach this autumn!\n",
    "\n",
    "## Problem 1 - Creating your own Jupyter notebook\n",
    "\n",
    "1. Open Jupyter lab from the [Exercise 1 landing page](https://geo-python-site.readthedocs.io/en/latest/lessons/L1/exercise-1.html#part-3-cooking-up-some-python) on the course site and create a new notebook.\n",
    "\n",
    "2. Use the file browser on the left side of the Jupyter Lab window to change the name of your notebook file to `Exercise-1.ipynb`."
   ]
  },
  {
   "cell_type": "markdown",
   "metadata": {},
   "source": [
    "## Problem 2 - Defining some numerical variables\n",
    "\n",
    "In the top cell of the new notebook:\n",
    "\n",
    "1. Create a variable called `ice_cream_rating` and use it to store an integer value (whole number) between 0 and 10 that reflects your general opinion about how much you enjoy eating ice cream.\n",
    "\n",
    "2. Create another variable called `sleeping_rating` and use it to store another integer between 0 and 10 that reflects your opinion about how much you enjoy sleeping.\n",
    "\n",
    "3. Run the cell by pressing <kbd>Shift</kbd> + <kbd>Enter</kbd>."
   ]
  },
  {
   "cell_type": "code",
   "execution_count": 1,
   "metadata": {},
   "outputs": [],
   "source": [
    "ice_cream_rating = 3\n",
    "sleeping_rating = 8"
   ]
  },
  {
   "cell_type": "markdown",
   "metadata": {},
   "source": [
    "## Problem 3 - Defining some character string variables\n",
    "\n",
    "In the new cell that appears:\n",
    "\n",
    "1. Store your first name as a character string in a variable called `first_name`.\n",
    "\n",
    "2. Store your last name as a character string in a variable called `last_name`.\n",
    "\n",
    "3. (*Optional*) Define a third variable called `my_name` that will combine your first and last names into a single character string with a space between the names.\n",
    "\n",
    "4. Run the cell by pressing <kbd>Shift</kbd> + <kbd>Enter</kbd>."
   ]
  },
  {
   "cell_type": "code",
   "execution_count": 6,
   "metadata": {},
   "outputs": [],
   "source": [
    "first_name = 'Lajos'\n",
    "last_name = 'Nagy'\n",
    "my_name = first_name + ' ' + last_name"
   ]
  },
  {
   "cell_type": "markdown",
   "metadata": {},
   "source": [
    "## Problem 4 - A bit of math\n",
    "\n",
    "In order to assess your overall happiness it is necessary to combine the ice cream and sleeping ratings. To do this:\n",
    "\n",
    "1. Calculate the average of your `ice_cream_rating` and `sleeping_rating` variables and store the resulting value in a variable called `happiness_rating`.\n",
    "\n",
    "2. Run the cell by pressing <kbd>Shift</kbd> + <kbd>Enter</kbd>."
   ]
  },
  {
   "cell_type": "code",
   "execution_count": 7,
   "metadata": {},
   "outputs": [],
   "source": [
    "happiness_rating = (ice_cream_rating + sleeping_rating) / 2"
   ]
  },
  {
   "cell_type": "markdown",
   "metadata": {},
   "source": [
    "## Problem 5 - Checking data types\n",
    "\n",
    "The next step is to investigate the kinds of data we're working with. In another Python cell:\n",
    "\n",
    "1. Use a built-in Python function to check the data types of the `ice_cream_rating`, `first_name`, and `happiness_rating` variables. In order to see the data types for more than one variable in a single Python cell, you will need to print out these values using another built-in Python function.\n",
    "\n",
    "2. Run the cell by pressing <kbd>Shift</kbd> + <kbd>Enter</kbd>.\n",
    "\n",
    "3. Did all of the data types make sense? Were there any data types that were different than you expected? In the new Python cell that appeared after running the code above, type in your responses to these questions.\n",
    "\n",
    "4. For the cell containing your answers to the questions above, change the kind of cell from **Code** to **Markdown**.\n",
    "\n",
    "5. Run the Markdown cell by pressing <kbd>Shift</kbd> + <kbd>Enter</kbd>."
   ]
  },
  {
   "cell_type": "code",
   "execution_count": 9,
   "metadata": {},
   "outputs": [
    {
     "name": "stdout",
     "output_type": "stream",
     "text": [
      "<class 'int'> <class 'str'> <class 'float'>\n"
     ]
    }
   ],
   "source": [
    "print(type(ice_cream_rating), type(first_name), type(happiness_rating))"
   ]
  },
  {
   "cell_type": "markdown",
   "metadata": {},
   "source": [
    "## Problem 6 - Displaying text on the screen\n",
    "\n",
    "Finally, you can use your Python skills to generate output on the screen similar to that below. Use one command to generate each line of output.\n",
    "\n",
    "```\n",
    "My name is Dave and I give eating ice cream a score of 9 out of 10!\n",
    "I am Dave Whipp and my sleeping enjoyment rating is 8 / 10!\n",
    "Based on the factors above, my happiness rating is 8.5 out of 10, or 85.0 %!\n",
    "```\n",
    "\n",
    "Note that your code should replace “Dave” with the contents of your `first_name` variable, “9” with your value stored in the variable `ice_cream_rating`, etc. For your equivalent text with the full name (e.g., \"Dave Whipp\"), you can either use the values from the variables `first_name` and `last_name`, or the value in variable `my_name`."
   ]
  },
  {
   "cell_type": "code",
   "execution_count": 11,
   "metadata": {},
   "outputs": [
    {
     "name": "stdout",
     "output_type": "stream",
     "text": [
      "My name is Lajos and i give eating ice cream a score of 3 out of 10!\n",
      "I am Lajos Nagy and my sleep enjoyment rating is 8 / 10!\n",
      "Based on the factors above, my happiness rating is 5.5 out of 10 or 55.0 %\n"
     ]
    }
   ],
   "source": [
    "print(f'My name is {first_name} and i give eating ice cream a score of {ice_cream_rating} out of 10!')\n",
    "print(f'I am {my_name} and my sleep enjoyment rating is {sleeping_rating} / 10!')\n",
    "print(f'Based on the factors above, my happiness rating is {happiness_rating} out of 10 or {happiness_rating * 10} %')"
   ]
  },
  {
   "cell_type": "markdown",
   "metadata": {},
   "source": [
    "## Finishing the exercise\n",
    "\n",
    "To complete this exercise, download your notebook to your computer and upload it to GitHub in your **own** Exercise 1 repository that you created using the GitHub Classroom link."
   ]
  }
 ],
 "metadata": {
  "kernelspec": {
   "display_name": "Python 3",
   "language": "python",
   "name": "python3"
  },
  "language_info": {
   "codemirror_mode": {
    "name": "ipython",
    "version": 3
   },
   "file_extension": ".py",
   "mimetype": "text/x-python",
   "name": "python",
   "nbconvert_exporter": "python",
   "pygments_lexer": "ipython3",
   "version": "3.12.0"
  }
 },
 "nbformat": 4,
 "nbformat_minor": 2
}
